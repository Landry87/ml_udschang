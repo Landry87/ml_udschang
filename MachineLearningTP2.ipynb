{
 "cells": [
  {
   "cell_type": "code",
   "execution_count": 3,
   "id": "dec8fce0",
   "metadata": {},
   "outputs": [],
   "source": [
    "%matplotlib inline"
   ]
  },
  {
   "cell_type": "markdown",
   "id": "06e35ed0",
   "metadata": {},
   "source": [
    "# Travail Pratique 2 - Modèle de Prediction de la qualite d'un vin\n",
    "\n",
    "L'objectif est de modéliser la qualité d'un vin sur la base des resultats de tests physico-chimiques. Pour cela nous allons utiliser 2 approches, une par la méthode de regression lineaire et l'autre par la méthode classification\n",
    "\n",
    "Dans ce TP, nous allons apprendre comment:\n",
    "\n",
    "- Extraire les données à partir d'un datahub distant\n",
    "\n",
    "- Explorer des données pour des correlation eventuelles \n",
    "\n",
    "- Créer un modèle de regression linéaire\n",
    "\n",
    "- Evaluer les métriques de regression\n",
    "\n",
    "- Créer un modèle de classification \n",
    "\n",
    "- Utiliser le modèle pour des prédictions sur des nouvelles données \n",
    "\n",
    "- Evaluer les métriques de classification"
   ]
  },
  {
   "cell_type": "code",
   "execution_count": null,
   "id": "923e7e6a",
   "metadata": {},
   "outputs": [],
   "source": []
  },
  {
   "cell_type": "markdown",
   "id": "bc761f32",
   "metadata": {},
   "source": [
    "### Description des données\n",
    "\n",
    "Les données inclus un échantillon de vin rouge du nord du Portugal et publiees dans le repertoire de données de l'University of California, Irvine. \n",
    "\n",
    "Attributs ou variables d'entree (resultats de tests physico-chimiques):\n",
    "- fixed acidity\n",
    "- volatile acidity\n",
    "- citric acid\n",
    "- residual sugar\n",
    "- chlorides\n",
    "- free sulfur dioxide\n",
    "- total sulfur dioxide\n",
    "- density\n",
    "- pH\n",
    "- sulphates\n",
    "- alcohol\n",
    "- quality (varie de 0 a 10)\n",
    "\n",
    "L'attribut \"quality\" est la cible que l'on veut predire\n",
    "\n",
    "Pour avoir plus d'informations sur les données, visiter https://archive.ics.uci.edu/ml/datasets/Wine+Quality"
   ]
  },
  {
   "cell_type": "code",
   "execution_count": 21,
   "id": "29c73a7f",
   "metadata": {},
   "outputs": [],
   "source": [
    "# Importer les librairies neccessaires pour la traitement et l'exploration des données\n",
    "import numpy as np\n",
    "import pandas as pd\n",
    "import matplotlib.pyplot as plt\n",
    "import seaborn as sns\n"
   ]
  },
  {
   "cell_type": "markdown",
   "id": "61b9f5f2",
   "metadata": {},
   "source": [
    "### Extraire les données\n",
    "\n",
    "Extraire les données à partir d'un datahub distant https://archive.ics.uci.edu/ml/machine-learning-databases/wine-quality/winequality-red.csv\n",
    "\n",
    "La méthode pandas read_csv() est decrite a l'adresse https://pandas.pydata.org/docs/reference/api/pandas.read_csv.html\n",
    "\n",
    "Faites attention au type de separateur utilisé."
   ]
  },
  {
   "cell_type": "code",
   "execution_count": null,
   "id": "5216823e",
   "metadata": {},
   "outputs": [],
   "source": [
    "# Completer le code ci-dessous\n",
    "url = ...\n",
    "df = pd.read_csv(url, ...)\n",
    "df.head()"
   ]
  },
  {
   "cell_type": "code",
   "execution_count": 44,
   "id": "9b83ccd9",
   "metadata": {},
   "outputs": [],
   "source": [
    "# Affichez le nombre d'instances de vins et le nombre d'attributs\n",
    "# https://pandas.pydata.org/docs/reference/api/pandas.DataFrame.shape.html\n",
    "dimension = df.shape\n",
    "print(\"Nombre de lignes\", dimension[...])\n",
    "print(\"Nombre d'attributs\", dimension[...])"
   ]
  },
  {
   "cell_type": "markdown",
   "id": "f9df4de0",
   "metadata": {},
   "source": [
    "### Exploration des données pour detecter des tendances"
   ]
  },
  {
   "cell_type": "code",
   "execution_count": 45,
   "id": "d438a9ab",
   "metadata": {},
   "outputs": [],
   "source": [
    "df.describe()"
   ]
  },
  {
   "cell_type": "markdown",
   "id": "3275e0ad",
   "metadata": {},
   "source": [
    "À partir de la description des données ci-dessus, que pensez-vous déjà de l'importance de l'attribut 'density' pour prédire la qualité du vin ?\n",
    "Faut-il la supprimer ou garder ?\n",
    "Ajouter votre commentaire ici\n",
    "\n",
    "......"
   ]
  },
  {
   "cell_type": "code",
   "execution_count": 42,
   "id": "1fd6dd96",
   "metadata": {},
   "outputs": [
    {
     "data": {
      "text/plain": [
       "fixed acidity           0\n",
       "volatile acidity        0\n",
       "citric acid             0\n",
       "residual sugar          0\n",
       "chlorides               0\n",
       "free sulfur dioxide     0\n",
       "total sulfur dioxide    0\n",
       "density                 0\n",
       "pH                      0\n",
       "sulphates               0\n",
       "alcohol                 0\n",
       "quality                 0\n",
       "dtype: int64"
      ]
     },
     "execution_count": 42,
     "metadata": {},
     "output_type": "execute_result"
    }
   ],
   "source": [
    "# Pour l'instant nous n'allons pas supprimer l'attribut 'density'\n",
    "# Verifiez s'il y a des colonnes avec des valeurs manquantes dans le tableau des données\n",
    "# La fonction suivante compte le nombre de valeur manquantes par colonne\n",
    "df.isnull().sum()"
   ]
  },
  {
   "cell_type": "code",
   "execution_count": 49,
   "id": "b04a8611",
   "metadata": {},
   "outputs": [
    {
     "data": {
      "text/plain": [
       "\"\\nfig, ax = plt.subplots(ncols=4, nrows=3, figsize=(15, 5))\\nax = ax.flatten()\\nindex = 0\\nfor column in df.columns:\\n  if column != 'quality':\\n    sns.boxplot(y=column, data=df, ax=ax[index])\\n    index +=1\\nplt.tight_layout(pad=0.4)\\nplt.show()\\n\""
      ]
     },
     "execution_count": 49,
     "metadata": {},
     "output_type": "execute_result"
    }
   ],
   "source": [
    "# Verifiez s'il y a des valeurs anormales (outliers en anlgais) dans le tableau des données avec la fonction boxplot\n",
    "# Pour l'instant nous n'allons pas les supprimer \n",
    "fig, ax = plt.subplots(ncols=4, nrows=3, figsize=(15, 5))\n",
    "ax = ax.flatten()\n",
    "index = 0\n",
    "for column in df.columns:\n",
    "  if column != 'quality':\n",
    "    sns.boxplot(y=column, data=df, ax=ax[index])\n",
    "    index +=1\n",
    "plt.tight_layout(pad=0.4)\n",
    "plt.show()"
   ]
  },
  {
   "cell_type": "code",
   "execution_count": 46,
   "id": "d75644e5",
   "metadata": {},
   "outputs": [],
   "source": [
    "# completez le code ci-dessous\n",
    "correlation = ... \n",
    "print(\"Tableau du degré de correlation entre les differents attributs\")\n",
    "correlation"
   ]
  },
  {
   "cell_type": "code",
   "execution_count": 50,
   "id": "bdf65656",
   "metadata": {},
   "outputs": [],
   "source": [
    "# On peut obtenir une meilleur visualisation avec la librairie seaborn\n",
    "fig = plt.subplots(figsize=(10,10))\n",
    "print(\"Tableau du degré de correlation entre les differents attributs avec seaborn\")\n",
    "sns.heatmap(correlation,vmax=1,square=True,annot=True,cmap='Reds')"
   ]
  },
  {
   "cell_type": "code",
   "execution_count": null,
   "id": "4d98dd41",
   "metadata": {},
   "outputs": [],
   "source": [
    "# Selectionnez les données d'entrées X (les 10 premières colonnes) et les données cibles Y (la dernière colone)\n",
    "# Description du selecteur DataFrame.iloc https://pandas.pydata.org/docs/reference/api/pandas.DataFrame.iloc.html"
   ]
  },
  {
   "cell_type": "code",
   "execution_count": null,
   "id": "c1b03729",
   "metadata": {},
   "outputs": [],
   "source": [
    "X = df.iloc[...,...].values\n",
    "Y = df.iloc[...,...].values"
   ]
  },
  {
   "cell_type": "code",
   "execution_count": 51,
   "id": "bf87b2c2",
   "metadata": {},
   "outputs": [
    {
     "data": {
      "text/plain": [
       "\"\\nattributs = df.columns.values\\nfor attribut in attributs:\\n    sns.set()\\n    sns.relplot(data=...,x=...,y=Y, kind='line',height=7,aspect=1)\\n\""
      ]
     },
     "execution_count": 51,
     "metadata": {},
     "output_type": "execute_result"
    }
   ],
   "source": [
    "# Pour chacun des attributs, affichez les diagrammes de Y en fonction de cet attribut\n",
    "attributs = df.columns.values\n",
    "for attribut in attributs:\n",
    "    sns.set()\n",
    "    sns.relplot(data=...,x=...,y=Y, kind='line',height=7,aspect=1)\n",
    "    "
   ]
  },
  {
   "cell_type": "markdown",
   "id": "c09df43a",
   "metadata": {},
   "source": [
    "Y'en a-t-il parmi les 11 courbes qui presentent un certain degre de correlation (negative ou positive) avec la variable cible Y(qualite) ? Lesquelles ? \n",
    "\n",
    "Double-cliquez sur ce texte pour editer votre reponse et appuyer sur le bouton \"Run\".\n"
   ]
  },
  {
   "cell_type": "markdown",
   "id": "9f50798b",
   "metadata": {},
   "source": [
    "### Creation du modèle"
   ]
  },
  {
   "cell_type": "code",
   "execution_count": 14,
   "id": "7eee924e",
   "metadata": {},
   "outputs": [],
   "source": [
    "# Importez les librairies neccessaires pour l'entrainement du modèle\n",
    "from sklearn.model_selection import train_test_split\n",
    "from sklearn.linear_model import LinearRegression\n",
    "from sklearn.metrics import mean_squared_error"
   ]
  },
  {
   "cell_type": "code",
   "execution_count": 15,
   "id": "db6e5db0",
   "metadata": {},
   "outputs": [],
   "source": [
    "# Completer les lignes de code ci-dessous (...)\n",
    "# Scindez les donnes en 2 ensembles, dont 80% pour l'entrainement et 20% pour le test\n",
    "X_train, X_test, y_train, y_test = train_test_split(..., ..., test_size=..., random_state=4)\n",
    "\n",
    "# Selectionnez l'algorithme LinearRegression\n",
    "lr = ...\n",
    "\n",
    "# Entrainez le modele\n",
    "...\n",
    "\n",
    "# Prediction de la qualite de l'ensemble de test\n",
    "y_pred = ..."
   ]
  },
  {
   "cell_type": "code",
   "execution_count": 52,
   "id": "5b17e5f0",
   "metadata": {},
   "outputs": [],
   "source": [
    "# Affichez les coefficients W du modele\n",
    "# Rappel de l'equation d'un modele de Regression lineaire: f(x) = w0 + w1*x1 + w2*x2 + ... + w11*x11\n",
    "print(\"Valeurs des coefficients [w1,w2,...,w11]\", lr.coef_)\n",
    "print(\"Valeur de w0\", lr.intercept_)"
   ]
  },
  {
   "cell_type": "markdown",
   "id": "13eb0dca",
   "metadata": {},
   "source": [
    "### Evaluer les métriques de regression"
   ]
  },
  {
   "cell_type": "code",
   "execution_count": 53,
   "id": "48daa22f",
   "metadata": {},
   "outputs": [],
   "source": [
    "# Calculez l'exactitude du modele en utilisant le sous ensemble de test\n",
    "# https://scikit-learn.org/stable/modules/generated/sklearn.linear_model.LinearRegression.html\n",
    "accuracy = lr.score(X_test, ...)\n",
    "print(accuracy)"
   ]
  },
  {
   "cell_type": "code",
   "execution_count": 54,
   "id": "20f89dba",
   "metadata": {},
   "outputs": [],
   "source": [
    "# Calculez la moyenne quadratique entre les valeurs réelles du sous ensemble de test et les predictions de notre modele \n",
    "# https://scikit-learn.org/stable/modules/generated/sklearn.metrics.mean_squared_error.html\n",
    "rmse_linear = mean_squared_error(y_test, ...)\n",
    "print(rmse_linear)"
   ]
  },
  {
   "cell_type": "markdown",
   "id": "3ec50155",
   "metadata": {},
   "source": [
    "### Créer un modèle de classification\n",
    "\n",
    "Pour cela, vous devez remplacer ou convertir la colonne 'quality' en une variable binaire qui peut prendre 2 valeurs seulement: 0 si le vin est de mauvaise qualité (i.e qualité actuelle entre 0 et 5) ou 1 si le vin est de bonne qualité (i.e qualité actuelle entre 6 et 10)"
   ]
  },
  {
   "cell_type": "code",
   "execution_count": null,
   "id": "b340e319",
   "metadata": {},
   "outputs": [],
   "source": [
    "# Votre code ici\n",
    "..."
   ]
  },
  {
   "cell_type": "code",
   "execution_count": null,
   "id": "c955c741",
   "metadata": {},
   "outputs": [],
   "source": [
    "# Calculer et affichez les proportions de vins de bonne et de mauvaise qualité avec la fonction value_counts()\n",
    "# https://pandas.pydata.org/docs/reference/api/pandas.DataFrame.value_counts.html\n",
    "# votre code ici\n",
    "..."
   ]
  },
  {
   "cell_type": "code",
   "execution_count": null,
   "id": "f7894536",
   "metadata": {},
   "outputs": [],
   "source": [
    "# Selectionnez les vins de bonne qualité\n",
    "# Completez le code ci-dessous\n",
    "df_bonne_q = df[...==1]\n",
    "df_bonne_q.describe()"
   ]
  },
  {
   "cell_type": "code",
   "execution_count": null,
   "id": "78616f51",
   "metadata": {},
   "outputs": [],
   "source": [
    "# Selectionnez les vins de mauvaise qualité\n",
    "# Completez le code ci-dessous\n",
    "df_mauvaise_q = ...\n",
    "df_mauvaise_q.describe()"
   ]
  },
  {
   "cell_type": "markdown",
   "id": "efde9627",
   "metadata": {},
   "source": [
    "Normalisez les attributs: imaginez ensemble de données avec deux attributs, la taille en millimètres et le poids en kilogrammes, alors les valeurs numériques de la taille seront beaucoup plus élevées que celle du poids. Étant donné que l'algorithme de 'machine learning' n'utilise que les valeurs sans considerer leur unité de mesure, une plus grande importance sera automatiquement accordée à la taille qu'au poids, créant ainsi un biais. "
   ]
  },
  {
   "cell_type": "code",
   "execution_count": null,
   "id": "a2f6d480",
   "metadata": {},
   "outputs": [],
   "source": [
    "from sklearn.preprocessing import StandardScaler\n",
    "X_attributs = X\n",
    "X = StandardScaler().fit_transform(X)"
   ]
  },
  {
   "cell_type": "code",
   "execution_count": null,
   "id": "07c8264e",
   "metadata": {},
   "outputs": [],
   "source": [
    "from sklearn.metrics import classification_report\n",
    "# Selectionnez l'algorithme de classification LogisticRegression\n",
    "logist = ...\n",
    "\n",
    "# Entrainez le modele\n",
    "...\n",
    "\n",
    "# Prediction de la qualite de l'ensemble de test\n",
    "y_pred_logist = ...\n",
    "print(classification_report(y_test, y_pred_logist))"
   ]
  },
  {
   "cell_type": "code",
   "execution_count": null,
   "id": "a33848e1",
   "metadata": {},
   "outputs": [],
   "source": [
    "# Affichez les attributs qui ont plus d'influence sur la qualité du vin selon DecisionTreeClassifier\n",
    "attributs_importances = pd.Series(y_pred_logist.feature_importances_, index=X_attributs.columns)\n",
    "attributs_importances.nlargest(25).plot(kind='barh',figsize=(10,10))"
   ]
  },
  {
   "cell_type": "markdown",
   "id": "6ccaa4be",
   "metadata": {},
   "source": [
    "### Créer d'autres modèles de classification\n",
    "\n",
    "Nous allons entrainer deux autres modeles en utilisant des algorithmes de types differents pour comparer leur performance"
   ]
  },
  {
   "cell_type": "code",
   "execution_count": null,
   "id": "5eb3f044",
   "metadata": {},
   "outputs": [],
   "source": [
    "from sklearn.tree import DecisionTreeClassifier\n",
    "# Selectionnez l'algorithme de classification DecisionTreeClassifier\n",
    "dtree = ...\n",
    "\n",
    "# Entrainez le modele\n",
    "dtree.fit(..., ...)\n",
    "\n",
    "# Prediction de la qualite de l'ensemble de test\n",
    "y_pred_dtree = dtree.predict(...)\n",
    "print(classification_report(y_test, y_pred_dtree))"
   ]
  },
  {
   "cell_type": "code",
   "execution_count": null,
   "id": "ff75d06e",
   "metadata": {},
   "outputs": [],
   "source": [
    "# Affichez les attributs qui ont plus d'influence sur la qualité du vin selon DecisionTreeClassifier\n",
    "attributs_importances = pd.Series(y_pred_dtree.feature_importances_, index=X_attributs.columns)\n",
    "attributs_importances.nlargest(25).plot(kind='barh',figsize=(10,10))"
   ]
  },
  {
   "cell_type": "code",
   "execution_count": null,
   "id": "144e0113",
   "metadata": {},
   "outputs": [],
   "source": [
    "from sklearn.ensemble import RandomForestClassifier\n",
    "# Selectionnez l'algorithme de classification RandomForestClassifier\n",
    "rforest = ...\n",
    "\n",
    "# Entrainez le modele\n",
    "...\n",
    "\n",
    "# Prediction de la qualite de l'ensemble de test\n",
    "y_pred_rforest = ...\n",
    "print(classification_report(y_test, y_pred_rforest))"
   ]
  },
  {
   "cell_type": "code",
   "execution_count": null,
   "id": "81a91b9a",
   "metadata": {},
   "outputs": [],
   "source": [
    "# Affichez les attributs qui ont plus d'influence sur la qualité du vin selon RandomForestClassifier\n",
    "attributs_importances = pd.Series(y_pred_rforest.feature_importances_, index=X_attributs.columns)\n",
    "attributs_importances.nlargest(25).plot(kind='barh',figsize=(10,10))"
   ]
  },
  {
   "cell_type": "code",
   "execution_count": null,
   "id": "f178f619",
   "metadata": {},
   "outputs": [],
   "source": []
  }
 ],
 "metadata": {
  "kernelspec": {
   "display_name": "Python 3 (ipykernel)",
   "language": "python",
   "name": "python3"
  },
  "language_info": {
   "codemirror_mode": {
    "name": "ipython",
    "version": 3
   },
   "file_extension": ".py",
   "mimetype": "text/x-python",
   "name": "python",
   "nbconvert_exporter": "python",
   "pygments_lexer": "ipython3",
   "version": "3.9.7"
  }
 },
 "nbformat": 4,
 "nbformat_minor": 5
}
